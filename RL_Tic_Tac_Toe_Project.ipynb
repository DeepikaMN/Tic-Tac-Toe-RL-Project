{
  "nbformat": 4,
  "nbformat_minor": 0,
  "metadata": {
    "colab": {
      "provenance": []
    },
    "kernelspec": {
      "name": "python3",
      "display_name": "Python 3"
    },
    "language_info": {
      "name": "python"
    }
  },
  "cells": [
    {
      "cell_type": "code",
      "execution_count": null,
      "metadata": {
        "id": "V0h7GMK7cQBq"
      },
      "outputs": [],
      "source": [
        "import numpy as np\n",
        "import random"
      ]
    },
    {
      "cell_type": "code",
      "source": [
        "# Tic Tac Toe game board\n",
        "board = np.zeros((3, 3))\n",
        "\n",
        "# Possible actions (empty spaces)\n",
        "actions = [(i, j) for i in range(3) for j in range(3)]\n"
      ],
      "metadata": {
        "id": "i89Sj5eXcgrH"
      },
      "execution_count": null,
      "outputs": []
    },
    {
      "cell_type": "code",
      "source": [
        "# Function to check if a player has won\n",
        "def check_win(board, player):\n",
        "    # Check rows\n",
        "    if np.any(np.all(board == player, axis=1)):\n",
        "        return True\n",
        "    # Check columns\n",
        "    if np.any(np.all(board == player, axis=0)):\n",
        "        return True\n",
        "    # Check diagonals\n",
        "    if np.all(np.diag(board) == player) or np.all(np.diag(np.fliplr(board)) == player):\n",
        "        return True\n",
        "    return False\n"
      ],
      "metadata": {
        "id": "kRh35B1uckGs"
      },
      "execution_count": null,
      "outputs": []
    },
    {
      "cell_type": "code",
      "source": [
        "# Probability transition function\n",
        "T = np.zeros((len(actions), 2, len(actions)))\n",
        "for i, action in enumerate(actions):\n",
        "    row, col = action\n",
        "    for j, next_action in enumerate(actions):\n",
        "        next_row, next_col = next_action\n",
        "        if board[row][col] != 0 or board[next_row][next_col] != 0:\n",
        "            # Invalid action (either current or next space is already occupied)\n",
        "            T[i, :, j] = 0\n",
        "        else:\n",
        "            # Valid action\n",
        "            if np.sum(board == 1) == np.sum(board == 2):\n",
        "                # Opponent's turn (player plays as 2)\n",
        "                T[i, 0, j] = 1/len(actions)\n",
        "                board[row][col] = 1\n",
        "                if check_win(board, 1):\n",
        "                    # Opponent wins (invalidates further moves)\n",
        "                    T[i, :, j] = 0\n",
        "                board[row][col] = 0\n",
        "            else:\n",
        "                # Player's turn\n",
        "                T[i, 1, j] = 1/len(actions)\n",
        "                board[row][col] = 2\n",
        "                if check_win(board, 2):\n",
        "                    # Player wins (invalidates further moves)\n",
        "                    T[i, :, j] = 0\n",
        "                board[row][col] = 0\n"
      ],
      "metadata": {
        "id": "K1SLet9_ctpV"
      },
      "execution_count": null,
      "outputs": []
    },
    {
      "cell_type": "code",
      "source": [
        "# Arbitrary policy (randomly select an action from available actions)\n",
        "policy = [random.choice(range(len(actions))) for _ in range(len(board.flatten()))]"
      ],
      "metadata": {
        "id": "kvJZVa88cz9g"
      },
      "execution_count": null,
      "outputs": []
    },
    {
      "cell_type": "code",
      "source": [
        "# Value iteration algorithm\n",
        "gamma = 0.9\n",
        "W = np.zeros(len(actions))\n",
        "for t in range(100):\n",
        "    W_prev = W.copy()\n",
        "    for i, action in enumerate(actions):\n",
        "        Ra = np.zeros(2)\n",
        "        for j in range(len(actions)):\n",
        "            Ra[0] += T[i, 0, j] * W_prev[j]\n",
        "            Ra[1] += T[i, 1, j] * W_prev[j]\n",
        "        W[i] = max(Ra + gamma * np.sum(T[i, 1, :] * W_prev))\n",
        "    if np.allclose(W, W_prev):\n",
        "        break\n"
      ],
      "metadata": {
        "id": "siILmHMoc5MX"
      },
      "execution_count": null,
      "outputs": []
    },
    {
      "cell_type": "code",
      "source": [
        "# Optimal policy (select the action that maximizes the value function at each state)\n",
        "opt_policy = [np.argmax(Ra + gamma * np.sum(T[i, 1, :] * W)) for i, Ra in enumerate(T[:, 0, :])]"
      ],
      "metadata": {
        "id": "5yYWvFEkc8hX"
      },
      "execution_count": null,
      "outputs": []
    },
    {
      "cell_type": "code",
      "source": [
        "# Example game simulation using optimal policy\n",
        "while True:\n",
        "    print(board)\n",
        "    if check_win(board, 1):\n",
        "        print(\"Opponent wins\")\n",
        "        break\n",
        "    elif check_win(board, 2):\n",
        "        print(\"Player wins\")\n",
        "        break\n",
        "    elif len(actions) == 0:\n",
        "        print(\"Draw\")\n",
        "        break\n",
        "    else:\n",
        "        i = random.choice(range(len(actions)))\n",
        "        action = actions[i]\n",
        "        row, col = action\n",
        "        print(\"Opponent plays at\", action)\n",
        "        board[row][col] = 1\n",
        "        if check_win(board, 1):\n",
        "            print(board)\n",
        "            print(\"Opponent wins\")\n",
        "            break\n",
        "        elif check_win(board, 2):\n",
        "            print(board)\n",
        "            print(\"Player wins\")\n",
        "            break\n",
        "        elif len(actions) == 0:\n",
        "            print(board)\n",
        "            print(\"Draw\")\n",
        "            break\n",
        "        else:\n",
        "            i = opt_policy.index(max(opt_policy))\n",
        "            opt_action = actions[i]\n",
        "            opt_row, opt_col = opt_action\n",
        "            print(\"Player plays at\", opt_action)\n",
        "            board[opt_row][opt_col] = 2\n",
        "            actions.remove(opt_action)"
      ],
      "metadata": {
        "colab": {
          "base_uri": "https://localhost:8080/"
        },
        "id": "UiAyV15_c_vr",
        "outputId": "4997f2f4-74d3-45d3-f17c-d801401cfe78"
      },
      "execution_count": null,
      "outputs": [
        {
          "output_type": "stream",
          "name": "stdout",
          "text": [
            "[[0. 0. 0.]\n",
            " [0. 0. 0.]\n",
            " [0. 0. 0.]]\n",
            "Opponent plays at (0, 2)\n",
            "Player plays at (0, 0)\n",
            "[[2. 0. 1.]\n",
            " [0. 0. 0.]\n",
            " [0. 0. 0.]]\n",
            "Opponent plays at (1, 1)\n",
            "Player plays at (0, 1)\n",
            "[[2. 2. 1.]\n",
            " [0. 1. 0.]\n",
            " [0. 0. 0.]]\n",
            "Opponent plays at (2, 1)\n",
            "Player plays at (0, 2)\n",
            "[[2. 2. 2.]\n",
            " [0. 1. 0.]\n",
            " [0. 1. 0.]]\n",
            "Player wins\n"
          ]
        }
      ]
    }
  ]
}